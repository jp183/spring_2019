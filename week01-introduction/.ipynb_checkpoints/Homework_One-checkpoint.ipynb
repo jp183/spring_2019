{
 "cells": [
  {
   "cell_type": "markdown",
   "metadata": {},
   "source": [
    "## CSC 217: Week One Homework\n",
    "\n",
    "#### This homework is due at **6:00 PM on Wednesday, Feburary 6th**. Any submissions made after that time will receive no credit."
   ]
  },
  {
   "cell_type": "markdown",
   "metadata": {
    "collapsed": true
   },
   "source": [
    "#### 1. TIRC Survey\n",
    "\n",
    "Please go to the following link to fill out an anonymous survey for TIRC: https://tinyurl.com/y9gtmaet (open in a new window!!). Please print your name below to confirm that you have done this."
   ]
  },
  {
   "cell_type": "code",
   "execution_count": null,
   "metadata": {
    "collapsed": true
   },
   "outputs": [],
   "source": [
    "print(' My Name Here')"
   ]
  },
  {
   "cell_type": "markdown",
   "metadata": {},
   "source": [
    "#### 2. Survey for Me\n",
    "\n",
    "This is an informal survey so that I can get more of a grasp of your preferences, abilities and interests. Please answer the questions in the cell below the question - no need for a print statement or code of any kind as the cell is a markdown cell. No wrong answers! (Also sorry - some of these questions are repetitive from the above survey but I don't receive that one)"
   ]
  },
  {
   "cell_type": "markdown",
   "metadata": {},
   "source": [
    "**Survey**:\n",
    "1. How do you prefer to be addressed in class (name, pronouns)?\n",
    "2. What is your Major/Minor?\n",
    "3. What is your current class standing?\n",
    "4. What is the email that you prefer to correspond with in the class? Please note that I will also send a Slack invitation to this email.\n",
    "5. How would you rate your Python skill set on a scale of 1 to 5 - 1 meaning no experience and 5 meaning you consider yourself excellent at it and are comfortable using things like objects and decorators. Again, no wrong answer, I just want to get a sense of where you're at. If you have used Python before, tell me in what capacity and which packages you worked with, if any.\n",
    "6. Have you used Github before? If so, in what capacity?\n",
    "7. What kind of computer do you have? (Model / Operating System).\n",
    "8. Please download the Kahoot app on your phone (if you can't for any reason please let me know), otherwise please confirm that you downloaded it.\n",
    "9. Please download the Slack app on your phone (if you can't for any reaosn please let me know), otherwise please confirm that you downloaded it.\n",
    "10. Have you taken a Statistics class before? If so, how did you find it? What material interested you the most? What did you have the hardest time with? No wrong answers!!\n",
    "11. Out of the examples of statistics use cases we briefly went over today, which did you find most interesting?\n",
    "12. What are three things you hope to get out of this class?\n",
    "13. Part of this class offering is that I am an industry professional - is there anything on that end that you'd like to learn more about? (Working on resumes, technical/non-technical interviews, networking, etc...) \n",
    "14. If need be, could you bring your laptop to class each week?"
   ]
  },
  {
   "cell_type": "markdown",
   "metadata": {},
   "source": [
    "**Press Enter to edit this cell**"
   ]
  },
  {
   "cell_type": "markdown",
   "metadata": {},
   "source": [
    "**3. Anaconda Download**\n",
    "\n",
    "Anaconda is an easy way to download Python and all of the packages we'll use in this class - and much more - onto your machine. It is compatible with all major operating systems. While working with Python on your machine as opposed to Binder isn't required for the course, it's heavily encouraged due to the limitations of Binder, particularly its nasty habit of timing out after a pretty short period of time of inactivity. \n",
    "\n",
    "Please download Anaconda from [here](https://www.anaconda.com/download/) (open in a new window!!) and print your name below to confirm that you have downloaded and installed it successfully. Depending on your operating system, you might have to do some Googling to get it to install properly, but it shouldn't be hard. If you can't successfully install it for any reason, please explain why below."
   ]
  },
  {
   "cell_type": "code",
   "execution_count": null,
   "metadata": {
    "collapsed": true
   },
   "outputs": [],
   "source": [
    "print('My Name')"
   ]
  },
  {
   "cell_type": "markdown",
   "metadata": {},
   "source": [
    "**4. Python Introduction Tutorial**\n",
    "\n",
    "The tutorial [here](https://www.learnpython.org/) (open in a new window!!) will introduce you to some of the core concepts of Python. Please complete the \"Learn the Basics\" and \"Data Science Tutorials\" sections and confirm that you have completed them by printing your name below.\n",
    "\n",
    "**Please note that the attached tutorial can take up to two hours to complete. Act accordingly so that your Binder instance doesn't timeout - save and download this file if you need to, and then you can upload it back to the instance later.**"
   ]
  },
  {
   "cell_type": "code",
   "execution_count": null,
   "metadata": {
    "collapsed": true
   },
   "outputs": [],
   "source": [
    "print('My Name')"
   ]
  },
  {
   "cell_type": "markdown",
   "metadata": {},
   "source": [
    "**5. Next Week's Readings**\n",
    "\n",
    "Please read the following in advance of next week's class.\n",
    "\n",
    "1) Chapters 1 and 2.1 - 2.3 from an Introduction to Probability and Statistics for Engineers and Scientists  \n",
    "2) Chapters 1 and 2 from Think Stats 2  \n",
    "3) [Getting Started With Jupyter Notebook for Python](https://medium.com/codingthesmartway-com-blog/getting-started-with-jupyter-notebook-for-python-4e7082bd5d46)  \n",
    "4) [Intro to Pandas Data Structures](http://gregreda.com/2013/10/26/intro-to-pandas-data-structures/)  \n",
    "5) [Numpy Tutorial Part 1 - Introduction to Arrays](https://www.machinelearningplus.com/python/numpy-tutorial-part1-array-python-examples/)   \n",
    "6) [Easier Data Analysis in Python With Pandas](https://www.dataschool.io/easier-data-analysis-with-pandas/) *Optional*  \n",
    "7) [101 Numpy Excercises for Python](https://www.machinelearningplus.com/python/101-numpy-exercises-python/)  *Optional*  "
   ]
  },
  {
   "cell_type": "code",
   "execution_count": null,
   "metadata": {
    "collapsed": true
   },
   "outputs": [],
   "source": []
  }
 ],
 "metadata": {
  "kernelspec": {
   "display_name": "Python 3",
   "language": "python",
   "name": "python3"
  },
  "language_info": {
   "codemirror_mode": {
    "name": "ipython",
    "version": 3
   },
   "file_extension": ".py",
   "mimetype": "text/x-python",
   "name": "python",
   "nbconvert_exporter": "python",
   "pygments_lexer": "ipython3",
   "version": "3.6.3"
  }
 },
 "nbformat": 4,
 "nbformat_minor": 2
}
